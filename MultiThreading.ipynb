{
 "cells": [
  {
   "cell_type": "markdown",
   "id": "26b29c95-161d-4362-b076-cdff3e561878",
   "metadata": {},
   "source": [
    "# 1. What is multithreading in python? Why is it used? Name the module used to handle threads in python.\n",
    "ANSWER:\n",
    "\n",
    "Multithreading in Python refers to a technique that allows a program to execute multiple threads (i.e., independent units of execution) concurrently within the same memory space. This is useful because it allows a program to execute multiple tasks at the same time, which can improve the program's performance, responsiveness, and resource utilization. Python's multithreading library is based on the threading module, which provides a simple and intuitive way to create and manage threads in Python.\n",
    "\n",
    "Multithreading is used in Python for a variety of purposes, such as:\n",
    "\n",
    "    Improving the performance of applications that have to perform multiple tasks simultaneously.\n",
    "    Making GUI applications more responsive by allowing the GUI to run on one thread while other tasks run on separate threads.\n",
    "    Performing I/O-bound tasks, such as network requests or file I/O, more efficiently by allowing other threads to run while waiting for the I/O operation to complete.\n",
    "\n",
    "The threading module is used to handle threads in Python. It provides several classes and functions that allow you to create and manage threads, such as the Thread class, which is used to create a new thread, and the Lock class, which is used to synchronize access to shared resources between threads."
   ]
  },
  {
   "cell_type": "markdown",
   "id": "a0924586-74bd-4158-b874-80594df16126",
   "metadata": {},
   "source": [
    "# 2. Why threading module used? Write the use of the following functions\n",
    "     1.activeCount()\n",
    "     2.currentThread()\n",
    "     3.enumerate()\n",
    "ANSWER:\n",
    "\n",
    "The threading module is used in Python to create and manage threads within a program. It provides a simple and intuitive way to create threads, synchronize access to shared resources, and communicate between threads. The following are the uses of some commonly used functions of the threading module:\n",
    "\n",
    "    activeCount(): This function is used to return the number of Thread objects that are currently active and running in the program. It can be used to monitor the number of threads in the program and ensure that the program is not creating too many threads, which can lead to performance issues.\n",
    "\n",
    "    currentThread(): This function is used to return a reference to the currently executing thread object. It can be used to get information about the current thread, such as its name or ID, and to control the behavior of the thread, such as setting its priority or stopping it.\n",
    "\n",
    "    enumerate(): This function is used to return a list of all the Thread objects that are currently active in the program. It can be used to iterate over all the threads in the program and perform operations on each thread, such as stopping or joining them.\n",
    "\n",
    "Overall, the threading module provides a powerful and flexible way to create and manage threads in Python, making it easier to write concurrent programs that can take advantage of modern multi-core processors and improve the performance of I/O-bound tasks."
   ]
  },
  {
   "cell_type": "markdown",
   "id": "f2ba1221-bb8a-4967-a27f-f1fa5d37e59c",
   "metadata": {},
   "source": [
    "# 3. Explain the following functions\n",
    "    run()\n",
    "    start()\n",
    "    join()\n",
    "    isAlive()\n",
    "ANSWER:\n",
    "\n",
    "In Python's threading module, the Thread class provides a way to create and manage threads. The following are some commonly used functions of the Thread class:\n",
    "\n",
    "    run(): This method is called when the thread is started using the start() method. It is used to define the behavior of the thread and contains the code that will be executed when the thread is running.\n",
    "\n",
    "    start(): This method is used to start the execution of the thread. It creates a new thread of execution and calls the run() method to start executing the thread's code.\n",
    "\n",
    "    join(): This method is used to wait for the thread to complete its execution. It blocks the calling thread until the thread being joined completes its execution.\n",
    "\n",
    "    isAlive(): This method is used to check if the thread is still running. It returns True if the thread is still executing, and False if the thread has completed its execution."
   ]
  },
  {
   "cell_type": "markdown",
   "id": "49ca5351-73d3-4e06-9f55-4e9eebc86ccd",
   "metadata": {},
   "source": [
    "# 4. Write a python program to create two threads. Thread one must print the list of squares and thread two must print the list of cubes.\n",
    "ANSWER:\n",
    "\n",
    "    import threading\n",
    "\n",
    "    def print_squares():\n",
    "        for i in range(1, 6):\n",
    "            print(f\"{i} squared is {i*i}\")\n",
    "\n",
    "    def print_cubes():\n",
    "        for i in range(1, 6):\n",
    "            print(f\"{i} cubed is {i*i*i}\")\n",
    "\n",
    "    # create threads\n",
    "    t1 = threading.Thread(target=print_squares)\n",
    "    t2 = threading.Thread(target=print_cubes)\n",
    "\n",
    "    # start threads\n",
    "    t1.start()\n",
    "    t2.start()\n",
    "\n",
    "    # wait for threads to finish\n",
    "    t1.join()\n",
    "    t2.join()\n",
    "\n",
    "In this program, we define two functions print_squares() and print_cubes(), which print the squares and cubes of numbers 1 to 5, respectively. We then create two Thread objects t1 and t2, which call these functions as their target. Finally, we start the threads using start() method, and wait for them to complete using join() method.\n",
    "\n",
    "When we run this program, it will create two threads that execute concurrently, where one thread prints the list of squares and the other thread prints the list of cubes. Since the threads are running concurrently, the output may not be in order, but it will include all the values of squares and cubes from 1 to 5."
   ]
  },
  {
   "cell_type": "markdown",
   "id": "41bb5efb-9b51-456c-b35c-76f9d3edab76",
   "metadata": {},
   "source": [
    "# 5. State advantages and disadvantages of multithreading.\n",
    "ANSWER:\n",
    "\n",
    "Multithreading is the ability to have multiple threads of execution running concurrently within a single process. While multithreading offers several benefits, it also has some drawbacks. Here are some advantages and disadvantages of multithreading:\n",
    "\n",
    "Advantages of Multithreading:\n",
    "\n",
    "    Improved performance: Multithreading can improve performance by utilizing multiple cores of the CPU and allowing concurrent execution of multiple tasks.\n",
    "\n",
    "    Enhanced responsiveness: Multithreading can improve the responsiveness of an application by allowing the user interface to remain responsive while long-running tasks are performed in the background.\n",
    "\n",
    "    Resource sharing: Multithreading allows multiple threads to share the same resources, such as memory, files, and network connections, which can save time and resources.\n",
    "\n",
    "    Modular design: Multithreading allows the program to be designed in a modular fashion, where each thread can be responsible for a specific task or set of tasks.\n",
    "\n",
    "Disadvantages of Multithreading:\n",
    "\n",
    "    Complexity: Multithreading can make the program more complex and harder to debug, especially when shared resources are involved.\n",
    "\n",
    "    Synchronization issues: Multithreading can create synchronization issues when multiple threads try to access and modify the same resources simultaneously, leading to race conditions and deadlock.\n",
    "\n",
    "    Overhead: Multithreading can increase the overhead of the program by requiring additional memory and processor resources to manage the threads.\n",
    "\n",
    "    Reduced predictability: Multithreading can make the program's behavior less predictable and harder to test, as the order of execution of threads may vary depending on the CPU scheduling algorithm."
   ]
  },
  {
   "cell_type": "markdown",
   "id": "96f05e43-eca7-4161-8994-7916a7711ec9",
   "metadata": {},
   "source": [
    "# 6. Explain deadlocks and race conditions.\n",
    "ANSWER:\n",
    "\n",
    "Deadlocks and race conditions are two common problems that can occur in multithreaded programs.\n",
    "\n",
    "Deadlocks occur when two or more threads are waiting for each other to release resources that they are holding, resulting in a deadlock or a standstill where none of the threads can proceed. Deadlocks can occur when multiple threads are trying to acquire exclusive access to the same resources, such as shared memory or network connections. For example, Thread A may be holding Resource X while waiting for Resource Y to become available, while Thread B may be holding Resource Y while waiting for Resource X to become available. This situation results in a deadlock where neither thread can proceed, leading to a program freeze or crash.\n",
    "\n",
    "Race conditions occur when two or more threads access shared resources or variables simultaneously, and the order of execution of the threads affects the final outcome. Race conditions can occur when the threads access and modify the same shared resource without proper synchronization. For example, if Thread A and Thread B both access and modify the same shared variable simultaneously without proper synchronization, the final value of the variable may be unpredictable and depend on the order of execution of the threads.\n",
    "\n",
    "Both deadlocks and race conditions can be difficult to debug and can lead to unpredictable program behavior. It is important to carefully manage shared resources and use proper synchronization techniques, such as locks or semaphores, to avoid deadlocks and race conditions in multithreaded programs."
   ]
  }
 ],
 "metadata": {
  "kernelspec": {
   "display_name": "Python 3 (ipykernel)",
   "language": "python",
   "name": "python3"
  },
  "language_info": {
   "codemirror_mode": {
    "name": "ipython",
    "version": 3
   },
   "file_extension": ".py",
   "mimetype": "text/x-python",
   "name": "python",
   "nbconvert_exporter": "python",
   "pygments_lexer": "ipython3",
   "version": "3.10.8"
  }
 },
 "nbformat": 4,
 "nbformat_minor": 5
}
