{
 "cells": [
  {
   "cell_type": "markdown",
   "id": "b92b0915-3b08-446f-900d-4303aeb152bd",
   "metadata": {},
   "source": [
    "# 1. What is Flask Framework? What are the advantages of Flask Framework?\n",
    "ANSWER:\n",
    "\n",
    "Flask is a lightweight web framework written in Python that is designed to be easy to use and flexible. It is a popular choice for building web applications and APIs due to its simplicity, minimalism, and extensibility.\n",
    "\n",
    "Some advantages of using Flask include:\n",
    "\n",
    "    Lightweight and flexible: Flask is a lightweight framework with a simple core that can be easily extended to meet the needs of any project. It does not impose any specific libraries or tools, so developers have the flexibility to choose the tools that best fit their needs.\n",
    "\n",
    "    Easy to learn: Flask has a simple and intuitive API that is easy to learn for developers who are new to web development.\n",
    "\n",
    "    Modular design: Flask is designed to be modular and extensible, which makes it easy to add or remove features as needed.\n",
    "\n",
    "    Support for multiple protocols: Flask supports multiple protocols, including HTTP, WebSocket, and RESTful API, making it a versatile choice for building different types of web applications.\n",
    "\n",
    "    Large community and active development: Flask has a large and active community of developers, which means that it is well-supported and constantly improving.\n",
    "\n",
    "    Easy to test: Flask provides a built-in testing framework that makes it easy to write and run tests for your web application."
   ]
  },
  {
   "cell_type": "markdown",
   "id": "5fbf1ec1-4dbe-41cc-946e-42d2dc1d2234",
   "metadata": {},
   "source": [
    "# 2. Create a simple Flask application to display ‘Hello World!!’.\n",
    "ANSWER:\n",
    "\n",
    "    from flask import Flask\n",
    "\n",
    "    app = Flask(__name__)\n",
    "\n",
    "    @app.route('/')\n",
    "    def hello():\n",
    "        return 'Hello World!!'\n",
    "\n",
    "    if __name__ == '__main__':\n",
    "        app.run(debug=True)\n",
    "        \n",
    "        \n",
    "    ![](flask.png)"
   ]
  },
  {
   "cell_type": "markdown",
   "id": "1bb9b95d-3dd3-447a-b4d3-cdc43b7d2f44",
   "metadata": {},
   "source": [
    "# 3. What is App routing in Flask? Why do we use app routes?\n",
    "ANSWER:\n",
    "\n",
    "In Flask, an app route is a way to associate a URL endpoint with a Python function that should be executed when the endpoint is accessed. In other words, it is a way to define what should happen when a user navigates to a particular URL in your Flask web application.\n",
    "\n",
    "Here is an example of how to define an app route in Flask:\n",
    "\n",
    "    from flask import Flask\n",
    "\n",
    "    app = Flask(__name__)\n",
    "\n",
    "    @app.route('/')\n",
    "    def home():\n",
    "        return 'Hello, world!'\n",
    "\n",
    "    if __name__ == '__main__':\n",
    "        app.run()\n",
    "\n",
    "App routes are important in Flask because they allow you to create a logical structure for your web application and map URLs to the appropriate functions that will handle user requests. They also make it easy to organize your code and ensure that different parts of your application are separated and modularized. Without app routes, it would be difficult to create a functioning web application with multiple pages and features."
   ]
  },
  {
   "cell_type": "markdown",
   "id": "edb05df8-a7f5-4091-85a2-8b66b6818d4d",
   "metadata": {},
   "source": [
    "# 4. Create a “/welcome” route to display the welcome message “Welcome to ABC Corporation” and a “/”\n",
    "# route to show the following details:\n",
    "# Company Name: ABC Corporation\n",
    "# Location: India\n",
    "# Contact Detail: 999-999-9999\n",
    "ANSWER:\n",
    "\n",
    "    from flask import Flask\n",
    "\n",
    "    app = Flask(__name__)\n",
    "\n",
    "    @app.route('/welcome')\n",
    "    def welcome():\n",
    "        return 'Welcome to ABC Corporation'\n",
    "\n",
    "    @app.route('/')\n",
    "    def details():\n",
    "        return 'Company Name: ABC Corporation<br>Location: India<br>Contact Detail: 999-999-9999'\n",
    "\n",
    "    if __name__ == '__main__':\n",
    "        app.run(host=\"0.0.0.0\")\n",
    "        \n",
    "        \n",
    "    ![](FLASK.png)"
   ]
  },
  {
   "cell_type": "markdown",
   "id": "aa4ca591-9372-462f-9d5f-22a7f55b0463",
   "metadata": {},
   "source": [
    "# 5. What function is used in Flask for URL Building? Write a Python code to demonstrate the working of the url_for() function.\n",
    "ANSWER:\n",
    "\n",
    "The url_for() function in Flask is used for building URLs for Flask view functions. It generates a URL for a given endpoint with the optional method provided.\n",
    "\n",
    "Here is an example code to demonstrate the working of the url_for() function:\n",
    "\n",
    "    from flask import Flask, url_for\n",
    "\n",
    "    app = Flask(__name__)\n",
    "\n",
    "    @app.route('/')\n",
    "    def home():\n",
    "        return 'Hello, world!'\n",
    "\n",
    "    @app.route('/user/<username>')\n",
    "    def user_profile(username):\n",
    "        return f'Profile page for {username}'\n",
    "\n",
    "    @app.route('/login')\n",
    "    def login():\n",
    "        return 'Please log in'\n",
    "\n",
    "    with app.test_request_context():\n",
    "        print(url_for('home')) # output: /\n",
    "        print(url_for('user_profile', username='john')) # output: /user/john\n",
    "        print(url_for('login', next='/dashboard')) # output: /login?next=%2Fdashboard\n"
   ]
  }
 ],
 "metadata": {
  "kernelspec": {
   "display_name": "Python 3 (ipykernel)",
   "language": "python",
   "name": "python3"
  },
  "language_info": {
   "codemirror_mode": {
    "name": "ipython",
    "version": 3
   },
   "file_extension": ".py",
   "mimetype": "text/x-python",
   "name": "python",
   "nbconvert_exporter": "python",
   "pygments_lexer": "ipython3",
   "version": "3.10.8"
  }
 },
 "nbformat": 4,
 "nbformat_minor": 5
}
