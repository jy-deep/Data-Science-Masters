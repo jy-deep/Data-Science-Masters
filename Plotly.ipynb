{
 "cells": [
  {
   "cell_type": "markdown",
   "id": "6b16d052-693f-48dd-b825-17f615a49ab8",
   "metadata": {},
   "source": [
    "# 1. Load the \"titanic\" dataset using the load_dataset function of seaborn. Use Plotly express to plot a scatter plot for age and fare columns in the titanic dataset.\n",
    "ANSWER:\n",
    "\n",
    "    import seaborn as sns\n",
    "    import plotly.express as px\n",
    "\n",
    "    # Load the titanic dataset\n",
    "    titanic_df = sns.load_dataset(\"titanic\")\n",
    "\n",
    "    # Plot a scatter plot for age and fare columns using Plotly express\n",
    "    fig = px.scatter(titanic_df, x=\"age\", y=\"fare\")\n",
    "\n",
    "    # Show the plot\n",
    "    fig.show()\n"
   ]
  },
  {
   "cell_type": "markdown",
   "id": "8de10c4f-34ab-4e31-bc93-c4de754c74ca",
   "metadata": {},
   "source": [
    "# 2. Using the tips dataset in the Plotly library, plot a box plot using Plotly express.\n",
    "ANSWER:\n",
    "\n",
    "    import plotly.express as px\n",
    "\n",
    "    # Load the tips dataset\n",
    "    tips_df = px.data.tips()\n",
    "\n",
    "    # Plot a box plot using Plotly express\n",
    "    fig = px.box(tips_df, x=\"day\", y=\"total_bill\", color=\"smoker\")\n",
    "\n",
    "    # Show the plot\n",
    "    fig.show()\n"
   ]
  },
  {
   "cell_type": "markdown",
   "id": "9d0aefc5-c782-4721-b707-34990876fb50",
   "metadata": {},
   "source": [
    "# 3. Using the tips dataset in the Plotly library, Plot a histogram for x= \"sex\" and y=\"total_bill\" column in the tips dataset. Also, use the \"smoker\" column with the pattern_shape parameter and the \"day\" column with the color parameter.\n",
    "ANSWER:\n",
    "\n",
    "    import plotly.express as px\n",
    "\n",
    "    # Load the tips dataset\n",
    "    tips_df = px.data.tips()\n",
    "\n",
    "    # Plot a histogram with x=\"sex\" and y=\"total_bill\" columns, and use \"smoker\" column with pattern_shape and \"day\" column with color\n",
    "    fig = px.histogram(tips_df, x=\"sex\", y=\"total_bill\", color=\"day\", pattern_shape=\"smoker\")\n",
    "\n",
    "    # Show the plot\n",
    "    fig.show()\n"
   ]
  },
  {
   "cell_type": "markdown",
   "id": "1e117871-ccf8-43e8-9766-11d8fc3305b3",
   "metadata": {},
   "source": [
    "# 4. Using the iris dataset in the Plotly library, Plot a scatter matrix plot, using the \"species\" column for the color parameter.\n",
    "ANSWER:\n",
    "\n",
    "    import plotly.express as px\n",
    "\n",
    "    # Load the iris dataset\n",
    "    iris_df = px.data.iris()\n",
    "\n",
    "    # Plot a scatter matrix plot with color parameter as \"species\"\n",
    "    fig = px.scatter_matrix(iris_df, dimensions=[\"sepal_length\", \"sepal_width\", \"petal_length\", \"petal_width\"], color=\"species\")\n",
    "\n",
    "    # Show the plot\n",
    "    fig.show()\n"
   ]
  },
  {
   "cell_type": "markdown",
   "id": "9037528a-7a93-481a-94f7-3e8feb8de9bb",
   "metadata": {},
   "source": [
    "# 5. What is Distplot? Using Plotly express, plot a distplot.\n",
    "ANSWER:\n",
    "\n",
    "    import plotly.express as px\n",
    "\n",
    "    # Load the tips dataset\n",
    "    tips_df = px.data.tips()\n",
    "\n",
    "    # Plot a distplot for the \"total_bill\" column using Plotly express\n",
    "    fig = px.histogram(tips_df, x=\"total_bill\", nbins=30, marginal=\"rug\", opacity=0.7, color_discrete_sequence=[\"purple\"])\n",
    "\n",
    "    # Show the plot\n",
    "    fig.show()\n"
   ]
  }
 ],
 "metadata": {
  "kernelspec": {
   "display_name": "Python 3 (ipykernel)",
   "language": "python",
   "name": "python3"
  },
  "language_info": {
   "codemirror_mode": {
    "name": "ipython",
    "version": 3
   },
   "file_extension": ".py",
   "mimetype": "text/x-python",
   "name": "python",
   "nbconvert_exporter": "python",
   "pygments_lexer": "ipython3",
   "version": "3.10.8"
  }
 },
 "nbformat": 4,
 "nbformat_minor": 5
}
