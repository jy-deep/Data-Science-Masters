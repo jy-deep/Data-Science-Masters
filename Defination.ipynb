{
 "cells": [
  {
   "cell_type": "markdown",
   "id": "e75cd678-e226-40df-9c4e-2a6e686f4718",
   "metadata": {
    "tags": []
   },
   "source": [
    "1. Which keyword is used to create a function? Create a function to return a list of odd numbers in the range of 1 to 25.\n",
    "Answer:\n",
    "\n",
    "The keyword used to create a function in Python is 'def'.\n",
    "\n",
    "#### a function to return a list of odd numbers in the range of 1 to 25\n",
    "    def odd_numbers(a,b):\n",
    "        a,b = 1,25\n",
    "        for i in range(a, b + 1):\n",
    "\n",
    "            if i % 2 != 0:\n",
    "                print(i)\n"
   ]
  },
  {
   "cell_type": "markdown",
   "id": "d50e2940-fd8f-43d5-bcc9-9179f15f4995",
   "metadata": {},
   "source": [
    "2. Q2. Why *args and **kwargs is used in some functions? Create a function each for *args and **kwargs to demonstrate their use.\n",
    "Answer:\n",
    "\n",
    "*args and **kwargs are used in Python functions to accept a variable number of arguments.\n",
    "    *args (Non-Keyword Arguments)\n",
    "    **kwargs (Keyword Arguments)\n",
    "\n",
    "The *args syntax allows a function to accept an arbitrary number of positional arguments, which are passed to the function as a tuple. For example:\n",
    "\n",
    "    def test4(*args):\n",
    "        n = []\n",
    "        for i in args:\n",
    "            if type(i) == list :\n",
    "                n.append(i)\n",
    "            \n",
    "        return n\n",
    "        \n",
    "The **kwargs syntax allows a function to accept an arbitrary number of keyword arguments, which are passed to the function as a dictionary. For example:\n",
    "\n",
    "    def test6(**kwargs):\n",
    "    for i in kwargs.keys():\n",
    "        if type(kwargs[i] ) == list :\n",
    "            return i , kwargs[i]\n",
    "            "
   ]
  },
  {
   "cell_type": "markdown",
   "id": "36e07959-e885-4876-a5fd-3d4b5092a22e",
   "metadata": {},
   "source": [
    "3. What is an iterator in python? Name the method used to initialize the iterator object and the method used for iteration. Use these methods to print the first five elements of the given list [2, 4, 6, 8, 10, 12, 14, 16, 18, 20].\n",
    "Answer:\n",
    "\n",
    "An iterator is an object that contains a countable number of values. An iterator is an object that can be iterated upon, meaning that you can traverse through all the values. Technically, in Python, an iterator is an object which implements the iterator protocol, which consist of the methods __iter__() and __next__() .\n",
    "\n",
    " __iter__(): The iter() method is called for the initialization of an iterator. This returns an iterator object\n",
    " \n",
    "__next__(): The next method returns the next value for the iterable. When we use a for loop to traverse any iterable object, internally it uses the iter() method to get an iterator object, which further uses the next() method to iterate over. This method raises a StopIteration to signal the end of the iteration.\n",
    "\n",
    "    my_list = [2, 4, 6, 8, 10, 12, 14, 16, 18, 20]\n",
    "\n",
    "    #### Initialize the iterator object using iter()\n",
    "    my_iterator = iter(my_list)\n",
    "\n",
    "    #### Use next() method in a loop to print the first five elements\n",
    "    for i in range(5):\n",
    "        print(next(my_iterator))\n"
   ]
  },
  {
   "cell_type": "markdown",
   "id": "118d520e-089e-43eb-862d-a62dbeb261d1",
   "metadata": {},
   "source": [
    "4. What is a generator function in python? Why yield keyword is used? Give an example of a generator function.\n",
    "Answers:\n",
    "\n",
    "A Python generator function allows you to declare a function that behaves like an iterator, providing a faster and easier way to create iterators. They can be used on an abstract container of data to turn it into an iterable object like lists, dictionaries and strings.\n",
    "\n",
    "The yield keyword in Python controls the flow of a generator function. This is similar to a return statement used for returning values in Python.\n",
    "\n",
    "def my_generator(n):\n",
    "\n",
    "        #### initialize counter\n",
    "        value = 0\n",
    "\n",
    "        #### loop until counter is less than n\n",
    "        while value < n:\n",
    "\n",
    "            #### produce the current value of the counter\n",
    "            yield value\n",
    "\n",
    "            #### increment the counter\n",
    "            value += 1\n",
    "\n",
    "    #### iterate over the generator object produced by my_generator\n",
    "    for value in my_generator(3):\n",
    "\n",
    "        # print each value produced by generator\n",
    "        print(value)"
   ]
  },
  {
   "cell_type": "markdown",
   "id": "96b4bc60-3857-4c35-988b-a0adb8323a7d",
   "metadata": {},
   "source": [
    "5. Create a generator function for prime numbers less than 1000. Use the next() method to print the first 20 prime numbers.\n",
    "Answers:\n",
    "\n",
    "    def prime_gen():\n",
    "    primes = []\n",
    "    num = 2\n",
    "    while True:\n",
    "        is_prime = True\n",
    "        for prime in primes:\n",
    "            if num % prime == 0:\n",
    "                is_prime = False\n",
    "                break\n",
    "        if is_prime:\n",
    "            primes.append(num)\n",
    "            yield num\n",
    "        num += 1\n",
    "\n",
    "    #### Initialize the generator object\n",
    "    my_gen = prime_gen()\n",
    "\n",
    "    #### Use the next() method to print the first 20 prime numbers\n",
    "    for i in range(20):\n",
    "        print(next(my_gen))\n"
   ]
  }
 ],
 "metadata": {
  "kernelspec": {
   "display_name": "Python 3 (ipykernel)",
   "language": "python",
   "name": "python3"
  },
  "language_info": {
   "codemirror_mode": {
    "name": "ipython",
    "version": 3
   },
   "file_extension": ".py",
   "mimetype": "text/x-python",
   "name": "python",
   "nbconvert_exporter": "python",
   "pygments_lexer": "ipython3",
   "version": "3.10.8"
  }
 },
 "nbformat": 4,
 "nbformat_minor": 5
}
