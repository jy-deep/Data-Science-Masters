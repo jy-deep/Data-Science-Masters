{
 "cells": [
  {
   "cell_type": "markdown",
   "id": "950917a7-5e24-4b1e-ae3b-74da5375fb57",
   "metadata": {},
   "source": [
    "1. Create a function which will take a list as an argument and return the product of all the numbers after creating a flat list.\n",
    "    Use the below-given list as an argument for your function.\n",
    "    list1 = [1,2,3,4, [44,55,66, True], False, (34,56,78,89,34), {1,2,3,3,2,1}, {1:34, \"key2\": [55, 67, 78, 89], 4: (45, 22, 61, 34)}, [56, 'data science'], 'Machine Learning']\n",
    "    Note: you must extract numeric keys and values of the dictionary also.\n",
    "Answer:\n",
    "\n",
    "    def product(lst):\n",
    "        flat_lst= []\n",
    "        for item in list:\n",
    "            if isinstance(item (list, tuple, set)):\n",
    "                flat_lst.extend(list(item))\n",
    "            elif isinstance(item, dist):\n",
    "                for key, value in item.items():\n",
    "                     if isinstance(key, (int, float)):\n",
    "                    flat_lst.append(key)\n",
    "                if isinstance(value, (int, float)):\n",
    "                    flat_lst.append(value)\n",
    "        elif isinstance(item, (int, float)):\n",
    "            flat_lst.append(item)\n",
    "\n",
    "    product = 1\n",
    "    for num in flat_lst:\n",
    "        product *= num\n",
    "    return product\n",
    "    \n",
    "    list1 = [1,2,3,4, [44,55,66, True], False, (34,56,78,89,34), {1,2,3,3,2,1}, {1:34, \"key2\": [55, 67, 78, 89], 4: (45,22, 61, 34)}, [56, 'data science'], 'Machine Learning']\n",
    "\n",
    "    print(product_of_numbers(list1))  \n",
    "    #### Output: 413288142090752640000\n"
   ]
  },
  {
   "cell_type": "markdown",
   "id": "648941f6-fd43-4550-8d32-a7ad08d44728",
   "metadata": {},
   "source": [
    "2. Write a python program for encrypting a message sent to you by your friend. The logic of encryption should be such that, for a the output should be z. For b, the output should be y. For c, the output should be x respectively. Also, the whitespace should be replaced with a dollar sign. Keep the punctuation marks unchanged.\n",
    "    Input Sentence: I want to become a Data Scientist.\n",
    "    Encrypt the above input sentence using the program you just created.\n",
    "    Note: Convert the given input sentence into lowercase before encrypting. The final output should be lowercase.\n",
    "Answer:\n",
    "\n",
    "    def encrypt_message(message):\n",
    "    encrypted_message = \"\"\n",
    "    for char in message.lower():\n",
    "        if char == \" \":\n",
    "            encrypted_message += \"$\"\n",
    "        elif char.isalpha():\n",
    "            encrypted_char = chr(219 - ord(char))\n",
    "            encrypted_message += encrypted_char\n",
    "        else:\n",
    "            encrypted_message += char\n",
    "    return encrypted_message\n",
    "\n",
    "message = \"I want to become a Data Scientist.\"\n",
    "encrypted_message = encrypt_message(message)\n",
    "print(encrypted_message)  \n",
    "#### Output: r dzmw gl yvnvnr z wztv hrghlmhg.\n"
   ]
  }
 ],
 "metadata": {
  "kernelspec": {
   "display_name": "Python 3 (ipykernel)",
   "language": "python",
   "name": "python3"
  },
  "language_info": {
   "codemirror_mode": {
    "name": "ipython",
    "version": 3
   },
   "file_extension": ".py",
   "mimetype": "text/x-python",
   "name": "python",
   "nbconvert_exporter": "python",
   "pygments_lexer": "ipython3",
   "version": "3.10.8"
  }
 },
 "nbformat": 4,
 "nbformat_minor": 5
}
