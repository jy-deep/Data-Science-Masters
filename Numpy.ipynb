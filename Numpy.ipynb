{
 "cells": [
  {
   "cell_type": "markdown",
   "id": "2bed5d21-3f23-4e08-8dbc-d5c2016de088",
   "metadata": {},
   "source": [
    "# Consider the below code to answer further questions:\n",
    "# import numpy as np\n",
    "# list_ = [ ‘1’ , ’2’ , ‘3’ , ‘4’ , ‘5’ ]\n",
    "# array_list = np.array(object = list_)"
   ]
  },
  {
   "cell_type": "markdown",
   "id": "1e7e72bd-a62c-4f9c-badc-d9f2d49fab19",
   "metadata": {},
   "source": [
    "# 1. Is there any difference in the data type of variables list_ and array_list? If there is then write a code to print the data types of both the variables.\n",
    "ANSWER:\n",
    "\n",
    "Yes, there is a difference in the data type of variables list_ and array_list. The list_ variable is a Python list, while the array_list variable is a NumPy array.\n",
    "\n",
    "To print the data types of both variables, you can use the type() function. Here's the code to do that:\n",
    "\n",
    "    import numpy as np\n",
    "\n",
    "    list_ = ['1', '2', '3', '4', '5']\n",
    "    array_list = np.array(list_)\n",
    "\n",
    "    print(type(list_))\n",
    "    print(type(array_list))\n",
    "\n",
    "OUTPUT:\n",
    "\n",
    "    <class 'list'>\n",
    "    <class 'numpy.ndarray'>\n"
   ]
  },
  {
   "cell_type": "markdown",
   "id": "44b6d4e7-e29f-43eb-bedb-b1c6b335e3cd",
   "metadata": {},
   "source": [
    "# 2. Write a code to print the data type of each and every element of both the variables list_ and arra_list.\n",
    "ANSWER:\n",
    "\n",
    "    import numpy as np\n",
    "\n",
    "    list_ = ['1', '2', '3', '4', '5']\n",
    "    array_list = np.array(list_)\n",
    "\n",
    "    # Printing data type of each element in list_\n",
    "    for elem in list_:\n",
    "        print(type(elem))\n",
    "\n",
    "    # Printing data type of each element in array_list\n",
    "    for elem in array_list:\n",
    "        print(type(elem))\n",
    "\n",
    "OUTPUT:\n",
    "\n",
    "    <class 'str'>\n",
    "    <class 'str'>\n",
    "    <class 'str'>\n",
    "    <class 'str'>\n",
    "    <class 'str'>\n",
    "    <class 'numpy.str_'>\n",
    "    <class 'numpy.str_'>\n",
    "    <class 'numpy.str_'>\n",
    "    <class 'numpy.str_'>\n",
    "    <class 'numpy.str_'>\n"
   ]
  },
  {
   "cell_type": "markdown",
   "id": "d86e1097-4457-4aed-b3ca-b73fec4cd83f",
   "metadata": {},
   "source": [
    "# 3. Considering the following changes in the variable, array_list:\n",
    "# array_list = np.array(object = list_, dtype = int)\n",
    "# Will there be any difference in the data type of the elements present in both the variables, list_ and arra_list? If so then print the data types of each and every element present in both the variables, list_ and arra_list.\n",
    "ANSWER:\n",
    "\n",
    "Yes, there will be a difference in the data type of the elements present in both variables list_ and array_list after changing the data type of array_list to int. The elements in list_ will still be of type str, while the elements in array_list will be of type int.\n",
    "\n",
    "Here's the code to print the data type of each element present in both variables list_ and array_list after the data type of array_list has been changed to int:\n",
    "\n",
    "    import numpy as np\n",
    "\n",
    "    list_ = ['1', '2', '3', '4', '5']\n",
    "    array_list = np.array(object=list_, dtype=int)\n",
    "\n",
    "    # Printing data type of each element in list_\n",
    "    for elem in list_:\n",
    "        print(type(elem))\n",
    "\n",
    "    # Printing data type of each element in array_list\n",
    "    for elem in array_list:\n",
    "        print(type(elem))\n",
    "\n",
    "OUTPUT:\n",
    "\n",
    "    <class 'str'>\n",
    "    <class 'str'>\n",
    "    <class 'str'>\n",
    "    <class 'str'>\n",
    "    <class 'str'>\n",
    "    <class 'numpy.int64'>\n",
    "    <class 'numpy.int64'>\n",
    "    <class 'numpy.int64'>\n",
    "    <class 'numpy.int64'>\n",
    "    <class 'numpy.int64'>\n"
   ]
  },
  {
   "cell_type": "markdown",
   "id": "145dded9-f825-400f-ba86-c431345052ed",
   "metadata": {},
   "source": [
    "# Consider the below code to answer further questions:\n",
    "# import numpy as np\n",
    "# num_list = [ [ 1 , 2 , 3 ] , [ 4 , 5 , 6 ] ]\n",
    "# num_array = np.array(object = num_list)"
   ]
  },
  {
   "cell_type": "markdown",
   "id": "d7c560fa-df4c-46da-9f1d-6b0ea6f297a5",
   "metadata": {},
   "source": [
    "# 4. Write a code to find the following characteristics of variable, num_array: (i) shape, (ii) size\n",
    "ANSWER:\n",
    "\n",
    "    import numpy as np\n",
    "\n",
    "    num_list = [[1, 2, 3], [4, 5, 6]]\n",
    "    num_array = np.array(num_list)\n",
    "\n",
    "    # Finding shape of num_array\n",
    "    print(\"Shape of num_array:\", num_array.shape)\n",
    "\n",
    "    # Finding size of num_array\n",
    "    print(\"Size of num_array:\", num_array.size)\n",
    "\n",
    "OUTPUT:\n",
    "\n",
    "    Shape of num_array: (2, 3)\n",
    "    Size of num_array: 6\n"
   ]
  },
  {
   "cell_type": "markdown",
   "id": "bf628b94-36c3-4f5d-8a6f-deaa49404510",
   "metadata": {},
   "source": [
    "# 5. Write a code to create numpy array of 3*3 matrix containing zeros only, using a numpy array creation function.\n",
    "ANSWER:\n",
    "\n",
    "    import numpy as np\n",
    "\n",
    "    # Creating a 3x3 matrix of zeros using np.zeros()\n",
    "    zeros_array = np.zeros((3, 3))\n",
    "\n",
    "    print(zeros_array)\n",
    "\n",
    "OUTPUT:\n",
    "\n",
    "    [[0. 0. 0.]\n",
    "     [0. 0. 0.]\n",
    "     [0. 0. 0.]]\n"
   ]
  },
  {
   "cell_type": "markdown",
   "id": "9eb56375-967f-417e-bbbd-98b80246219b",
   "metadata": {},
   "source": [
    "# 6. Create an identity matrix of shape (5,5) using numpy functions?\n",
    "ANSWER:\n",
    "\n",
    "    import numpy as np\n",
    "\n",
    "    # Creating an identity matrix of shape (5, 5) using np.identity()\n",
    "    identity_matrix = np.identity(5)\n",
    "\n",
    "    print(identity_matrix)\n",
    "\n",
    "OUTPUT:\n",
    "\n",
    "    [[1. 0. 0. 0. 0.]\n",
    "     [0. 1. 0. 0. 0.]\n",
    "     [0. 0. 1. 0. 0.]\n",
    "     [0. 0. 0. 1. 0.]\n",
    "     [0. 0. 0. 0. 1.]]\n"
   ]
  }
 ],
 "metadata": {
  "kernelspec": {
   "display_name": "Python 3 (ipykernel)",
   "language": "python",
   "name": "python3"
  },
  "language_info": {
   "codemirror_mode": {
    "name": "ipython",
    "version": 3
   },
   "file_extension": ".py",
   "mimetype": "text/x-python",
   "name": "python",
   "nbconvert_exporter": "python",
   "pygments_lexer": "ipython3",
   "version": "3.10.8"
  }
 },
 "nbformat": 4,
 "nbformat_minor": 5
}
