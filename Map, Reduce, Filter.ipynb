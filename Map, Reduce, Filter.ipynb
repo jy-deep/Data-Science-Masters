{
 "cells": [
  {
   "cell_type": "markdown",
   "id": "fec393b9-c0de-4ef8-97af-dcfe3226952c",
   "metadata": {},
   "source": [
    "1. Create a python program to sort the given list of tuples based on integer value using a lambda function.\n",
    "[('Sachin Tendulkar', 34357), ('Ricky Ponting', 27483), ('Jack Kallis', 25534), ('Virat Kohli', 24936)]\n",
    "Answer:\n",
    "\n",
    "    lst = [('Sachin Tendulkar', 34357), ('Ricky Ponting', 27483), ('Jack Kallis', 25534), ('Virat Kohli', 24936)]\n",
    "\n",
    "    sorted_lst = sorted(lst, key=lambda x: x[1], reverse=True)\n",
    "\n",
    "    print(sorted_lst)\n",
    "\n",
    "Outupt:\n",
    "\n",
    "    [('Sachin Tendulkar', 34357), ('Ricky Ponting', 27483), ('Jack Kallis', 25534), ('Virat Kohli', 24936)]\n"
   ]
  },
  {
   "cell_type": "markdown",
   "id": "cdc15504-3bd9-4a23-b3d9-6f6e5c924dd7",
   "metadata": {},
   "source": [
    "2. Write a Python Program to find the squares of all the numbers in the given list of integers using lambda and map functions.\n",
    "[1, 2, 3, 4, 5, 6, 7, 8, 9, 10]\n",
    "Answer:\n",
    "\n",
    "    lst = [1, 2, 3, 4, 5, 6, 7, 8, 9, 10]\n",
    "\n",
    "    squares = list(map(lambda x: x**2, lst))\n",
    "\n",
    "    print(squares)\n",
    "\n",
    "Output:\n",
    "\n",
    "    [1, 4, 9, 16, 25, 36, 49, 64, 81, 100]\n"
   ]
  },
  {
   "cell_type": "markdown",
   "id": "d4896c88-2ace-4e43-8f4c-4fe759d45868",
   "metadata": {},
   "source": [
    "3. Write a python program to convert the given list of integers into a tuple of strings. Use map and lambda functions\n",
    "    Given String: [1, 2, 3, 4, 5, 6, 7, 8, 9, 10]\n",
    "    Expected output: ('1', '2', '3', '4', '5', '6', '7', '8', '9', '10')\n",
    "Answer:\n",
    "\n",
    "    lst = [1, 2, 3, 4, 5, 6, 7, 8, 9, 10]\n",
    "\n",
    "    tuple_str = tuple(map(lambda x: str(x), lst))\n",
    "\n",
    "    print(tuple_str)\n",
    "\n",
    "Output:\n",
    "\n",
    "    ('1', '2', '3', '4', '5', '6', '7', '8', '9', '10')\n"
   ]
  },
  {
   "cell_type": "markdown",
   "id": "9104a47c-27a8-4907-b154-113c3f42fb6b",
   "metadata": {},
   "source": [
    "4. Write a python program using reduce function to compute the product of a list containing numbers from 1 to 25.\n",
    "Answer:\n",
    "\n",
    "    from functools import reduce\n",
    "\n",
    "    lst = list(range(1, 26))\n",
    "\n",
    "    product = reduce(lambda x, y: x*y, lst)\n",
    "\n",
    "    print(product)\n",
    "\n",
    "Output:\n",
    "\n",
    "    620448401733239439360000\n"
   ]
  },
  {
   "cell_type": "markdown",
   "id": "0cbd2448-3249-4b41-a374-ec74f9bdb1ed",
   "metadata": {},
   "source": [
    "5. Write a python program to filter the numbers in a given list that are divisible by 2 and 3 using the filter function.\n",
    "[2, 3, 6, 9, 27, 60, 90, 120, 55, 46]\n",
    "Answer:\n",
    "\n",
    "    lst = [2, 3, 6, 9, 27, 60, 90, 120, 55, 46]\n",
    "\n",
    "    divisible_by_2_and_3 = list(filter(lambda x: x % 2 == 0 and x % 3 == 0, lst))\n",
    "\n",
    "    print(divisible_by_2_and_3)\n",
    "\n",
    "Output:\n",
    "\n",
    "    [6, 60, 90, 120]\n"
   ]
  },
  {
   "cell_type": "markdown",
   "id": "cedfd5a3-8f97-441e-8959-2cc91a1e1af1",
   "metadata": {},
   "source": [
    "6. Write a python program to find palindromes in the given list of strings using lambda and filter function.\n",
    "['python', 'php', 'aba', 'radar', 'level']\n",
    "Answer:\n",
    "\n",
    "    lst = ['python', 'php', 'aba', 'radar', 'level']\n",
    "\n",
    "    palindromes = list(filter(lambda x: x == x[::-1], lst))\n",
    "\n",
    "    print(palindromes)\n",
    "\n",
    "Output:\n",
    "\n",
    "    ['aba', 'radar', 'level']\n"
   ]
  }
 ],
 "metadata": {
  "kernelspec": {
   "display_name": "Python 3 (ipykernel)",
   "language": "python",
   "name": "python3"
  },
  "language_info": {
   "codemirror_mode": {
    "name": "ipython",
    "version": 3
   },
   "file_extension": ".py",
   "mimetype": "text/x-python",
   "name": "python",
   "nbconvert_exporter": "python",
   "pygments_lexer": "ipython3",
   "version": "3.10.8"
  }
 },
 "nbformat": 4,
 "nbformat_minor": 5
}
