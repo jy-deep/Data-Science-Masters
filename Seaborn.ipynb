{
 "cells": [
  {
   "cell_type": "markdown",
   "id": "76181ef4-2f01-4d09-b5e1-dc60d9555964",
   "metadata": {},
   "source": [
    "# 1: Name any five plots that we can plot using the Seaborn library. Also, state the uses of each plot.\n",
    "ANSWER:\n",
    "\n",
    "Here are five plots that can be created using Seaborn and their uses:\n",
    "\n",
    "    Scatter plot: A scatter plot is used to represent the relationship between two numerical variables. It shows how much one variable is affected by another.\n",
    "\n",
    "    Line plot: A line plot is used to represent the trend of a numerical variable over time. It can be used to represent the changes in a variable over a period of time.\n",
    "\n",
    "    Bar plot: A bar plot is used to represent the comparison between different categories or groups. It shows the relationship between a categorical variable and a numerical variable.\n",
    "\n",
    "    Histogram: A histogram is used to represent the distribution of a numerical variable. It shows the frequency distribution of a variable.\n",
    "\n",
    "    Heatmap: A heatmap is used to represent the correlation between variables. It shows how much one variable is related to another. It can also be used to show the relationship between multiple variables."
   ]
  },
  {
   "cell_type": "markdown",
   "id": "b5f3ab24-458b-4b30-9dd3-164aedb3b8b9",
   "metadata": {},
   "source": [
    "# 2: Load the \"fmri\" dataset using the load_dataset function of seaborn. Plot a line plot using x = \"timepoint\" and y = \"signal\" for different events and regions.\n",
    "ANSWER:\n",
    "\n",
    "    import seaborn as sns\n",
    "\n",
    "    # Load the \"fmri\" dataset\n",
    "    fmri_data = sns.load_dataset(\"fmri\")\n",
    "\n",
    "    # Create a line plot using x = \"timepoint\" and y = \"signal\" for different events and regions\n",
    "    sns.lineplot(x=\"timepoint\", y=\"signal\", hue=\"event\", style=\"region\", data=fmri_data)\n"
   ]
  },
  {
   "cell_type": "markdown",
   "id": "7b1b903c-e535-4566-95f7-f3355d5b6435",
   "metadata": {},
   "source": [
    "# 3: Load the \"titanic\" dataset using the load_dataset function of seaborn. Plot two box plots using x = 'pclass', y = 'age' and y = 'fare'.\n",
    "ANSWER:\n",
    "\n",
    "    import seaborn as sns\n",
    "\n",
    "    # Load the \"titanic\" dataset\n",
    "    titanic_data = sns.load_dataset(\"titanic\")\n",
    "\n",
    "    # Create a box plot using x = \"pclass\" and y = \"age\"\n",
    "    sns.boxplot(x=\"pclass\", y=\"age\", data=titanic_data)\n",
    "\n",
    "    # Create a box plot using x = \"pclass\" and y = \"fare\"\n",
    "    sns.boxplot(x=\"pclass\", y=\"fare\", data=titanic_data)\n"
   ]
  },
  {
   "cell_type": "markdown",
   "id": "122f9143-7f81-478e-ad92-7e60e356cae2",
   "metadata": {},
   "source": [
    "# 4: Use the \"diamonds\" dataset from seaborn to plot a histogram for the 'price' column. Use the hue parameter for the 'cut' column of the diamonds dataset.\n",
    "ANSWER:\n",
    "\n",
    "    import seaborn as sns\n",
    "\n",
    "    # Load the \"diamonds\" dataset\n",
    "    diamonds_data = sns.load_dataset(\"diamonds\")\n",
    "\n",
    "    # Create a histogram for the \"price\" column with a hue for the \"cut\" column\n",
    "    sns.histplot(x=\"price\", hue=\"cut\", data=diamonds_data, kde=True)\n"
   ]
  },
  {
   "cell_type": "markdown",
   "id": "fb06fe0a-5d74-431e-b5cd-8430242430de",
   "metadata": {},
   "source": [
    "# 5: Use the \"iris\" dataset from seaborn to plot a pair plot. Use the hue parameter for the \"species\" column of the iris dataset.\n",
    "ANSWER:\n",
    "\n",
    "    import seaborn as sns\n",
    "\n",
    "    # Load the \"iris\" dataset\n",
    "    iris_data = sns.load_dataset(\"iris\")\n",
    "\n",
    "    # Create a pair plot with a hue for the \"species\" column\n",
    "    sns.pairplot(data=iris_data, hue=\"species\")\n"
   ]
  },
  {
   "cell_type": "markdown",
   "id": "56857b88-9be3-4f85-a0fb-4bc9c485a415",
   "metadata": {},
   "source": [
    "# 6: Use the \"flights\" dataset from seaborn to plot a heatmap.\n",
    "ANSWER:\n",
    "\n",
    "    import seaborn as sns\n",
    "\n",
    "    # Load the \"flights\" dataset\n",
    "    flights_data = sns.load_dataset(\"flights\")\n",
    "\n",
    "    # Reshape the data to create a matrix of monthly passenger totals\n",
    "    flights_data = flights_data.pivot(\"month\", \"year\", \"passengers\")\n",
    "\n",
    "    # Create a heatmap of monthly passenger totals\n",
    "    sns.heatmap(flights_data, cmap=\"YlGnBu\")\n"
   ]
  }
 ],
 "metadata": {
  "kernelspec": {
   "display_name": "Python 3 (ipykernel)",
   "language": "python",
   "name": "python3"
  },
  "language_info": {
   "codemirror_mode": {
    "name": "ipython",
    "version": 3
   },
   "file_extension": ".py",
   "mimetype": "text/x-python",
   "name": "python",
   "nbconvert_exporter": "python",
   "pygments_lexer": "ipython3",
   "version": "3.10.8"
  }
 },
 "nbformat": 4,
 "nbformat_minor": 5
}
