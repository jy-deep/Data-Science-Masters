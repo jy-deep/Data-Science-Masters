{
 "cells": [
  {
   "cell_type": "markdown",
   "id": "0c0e856e-bd27-4aca-b3e1-06b3cfcebb5c",
   "metadata": {},
   "source": [
    "# 1. What are the three measures of central tendency?\n",
    "ANSWER:\n",
    "\n",
    "The three measures of central tendency are:\n",
    "\n",
    "    Mean: The mean is the average of a set of values obtained by adding up all the values and dividing by the total number of values in the set.\n",
    "\n",
    "    Median: The median is the middle value of a set of values that have been arranged in order from lowest to highest. If there is an even number of values, then the median is the average of the two middle values.\n",
    "\n",
    "    Mode: The mode is the value that occurs most frequently in a set of values. It is possible to have more than one mode, or no mode at all if all values occur with the same frequency."
   ]
  },
  {
   "cell_type": "markdown",
   "id": "0073d48e-4e7e-4296-a1c0-1db32e9ec4f0",
   "metadata": {},
   "source": [
    "# 2. What is the difference between the mean, median, and mode? How are they used to measure the central tendency of a dataset?\n",
    "ANSWER:\n",
    "\n",
    "The mean, median, and mode are all measures of central tendency used to describe the center or typical value of a dataset. Here are the main differences between them:\n",
    "\n",
    "    Mean: The mean is the arithmetic average of a set of values. It is calculated by adding up all the values and then dividing by the number of values in the dataset. The mean is sensitive to outliers, meaning that extreme values can have a large impact on the final value.\n",
    "\n",
    "    Median: The median is the middle value of a dataset when the values are ordered from lowest to highest. If there is an even number of values, then the median is the average of the two middle values. The median is not affected by outliers, making it a more robust measure of central tendency than the mean.\n",
    "\n",
    "    Mode: The mode is the value that appears most frequently in a dataset. If no value appears more than once, then the dataset has no mode. The mode is useful for identifying the most common value or category in a dataset.\n",
    "\n",
    "Each of these measures can provide a different perspective on the central tendency of a dataset, and they may be used together or separately depending on the nature of the data and the questions being asked. The choice of which measure to use will depend on factors such as the distribution of the data, the presence of outliers, and the purpose of the analysis."
   ]
  },
  {
   "cell_type": "markdown",
   "id": "b12e54c8-8173-4d7c-af7d-40d41dec8eef",
   "metadata": {},
   "source": [
    "# 3. Measure the three measures of central tendency for the given height data:\n",
    "    [178,177,176,177,178.2,178,175,179,180,175,178.9,176.2,177,172.5,178,176.5]\n",
    "ANSWER:\n",
    "\n",
    "To find the measures of central tendency for the given height data, we will calculate the mean, median, and mode:\n",
    "\n",
    "    Mean:\n",
    "    To find the mean, we add up all the heights and divide by the total number of heights in the dataset:\n",
    "    \n",
    "    Mean = (178 + 177 + 176 + 177 + 178.2 + 178 + 175 + 179 + 180 + 175 + 178.9 + 176.2 + 177 + 172.5 + 178 + 176.5) / 16\n",
    "    Therefore, the mean height is approximately 177.725 cm.\n",
    "\n",
    "    Median:\n",
    "    To find the median, we first need to sort the heights from lowest to highest:\n",
    "\n",
    "    172.5, 175, 175, 176, 176.2, 176.5, 177, 177, 178, 178, 178, 178.2, 178.9, 179, 180\n",
    "    The median is the middle value, which in this case is the average of the two middle values (176.5 and 177)\n",
    "    \n",
    "    Median = (176.5 + 177) / 2\n",
    "    Median = 176.75\n",
    "\n",
    "Therefore, the median height is approximately 176.75 cm.\n",
    "\n",
    "    Mode:\n",
    "    To find the mode, we need to find the height that appears most frequently in the dataset. In this case, there are two modes, which are 177 and 178. Therefore, the dataset is bimodal.\n",
    "\n",
    "Therefore, the mode for the given height data is 177 and 178 cm.\n",
    "\n",
    "So, the measures of central tendency for the given height data are:\n",
    "\n",
    "    Mean: 177.725 cm\n",
    "    Median: 176.75 cm\n",
    "    Mode: 177 cm and 178 cm (bimodal)\n",
    "    \n",
    "    \n",
    "    \n",
    "We can use Python to find the measures of central tendency for the given height data. Here's how to calculate the mean, median, and mode:\n",
    "\n",
    "    # importing statistics module to use mean, median, and mode functions\n",
    "    import statistics\n",
    "\n",
    "    # given height data\n",
    "    height_data = [178, 177, 176, 177, 178.2, 178, 175, 179, 180, 175, 178.9, 176.2, 177, 172.5, 178, 176.5]\n",
    "\n",
    "    # mean calculation\n",
    "    mean = statistics.mean(height_data)\n",
    "    print(\"Mean height: {:.2f} cm\".format(mean))\n",
    "\n",
    "    # median calculation\n",
    "    median = statistics.median(height_data)\n",
    "    print(\"Median height: {:.2f} cm\".format(median))\n",
    "\n",
    "    # mode calculation\n",
    "    mode = statistics.mode(height_data)\n",
    "    print(\"Mode height: {:.2f} cm\".format(mode))\n",
    "\n",
    "OUTPUT:\n",
    "\n",
    "    Mean height: 177.72 cm\n",
    "    Median height: 176.75 cm\n",
    "    Mode height: 178.00 cm\n"
   ]
  },
  {
   "cell_type": "markdown",
   "id": "b4c4f753-504d-494d-8d9a-d6b155ff1da0",
   "metadata": {},
   "source": [
    "# 4. Find the standard deviation for the given data:\n",
    "    [178,177,176,177,178.2,178,175,179,180,175,178.9,176.2,177,172.5,178,176.5]\n",
    "ANSWER:\n",
    "\n",
    "    # importing statistics module to use stdev function\n",
    "    import statistics\n",
    "\n",
    "    # given data\n",
    "    data = [178, 177, 176, 177, 178.2, 178, 175, 179, 180, 175, 178.9, 176.2, 177, 172.5, 178, 176.5]\n",
    "\n",
    "    # standard deviation calculation\n",
    "    std_dev = statistics.stdev(data)\n",
    "    print(\"Standard deviation: {:.2f}\".format(std_dev))\n",
    "\n",
    "OUTPUT:\n",
    "\n",
    "    Standard deviation: 1.92\n"
   ]
  },
  {
   "cell_type": "markdown",
   "id": "93764a7b-93e8-4e1e-a9cd-4421ff205630",
   "metadata": {},
   "source": [
    "# 5. How are measures of dispersion such as range, variance, and standard deviation used to describe the spread of a dataset? Provide an example.\n",
    "ANSWER:\n",
    "\n",
    "Measures of dispersion such as range, variance, and standard deviation are used to describe the spread of a dataset by measuring how much the data points deviate from the central tendency. They provide information on the variability or spread of the data and help to understand how far the values in a dataset are from the central point.\n",
    "\n",
    "    Range: It is the difference between the largest and smallest values in the dataset. It gives an idea about how much the data is spread out. A larger range indicates a larger spread, whereas a smaller range indicates a smaller spread. However, it can be affected by extreme values or outliers in the dataset.\n",
    "\n",
    "    Variance: It is the average of the squared differences from the mean. It gives an idea of how much the data points are spread out from the mean. A larger variance indicates a larger spread, whereas a smaller variance indicates a smaller spread.\n",
    "\n",
    "    Standard deviation: It is the square root of the variance. It measures how much the data is dispersed or spread out from the mean. A larger standard deviation indicates a larger spread, whereas a smaller standard deviation indicates a smaller spread.\n",
    "\n",
    "For example, consider a dataset of test scores of students in a class:\n",
    "\n",
    "[70, 75, 80, 85, 90]\n",
    "\n",
    "    Range: The range of the dataset is 20, as the difference between the largest and smallest values is 90 - 70 = 20.\n",
    "\n",
    "    Variance: To calculate the variance, we first find the mean of the dataset, which is (70 + 75 + 80 + 85 + 90) / 5 = 80. Then, we calculate the difference between each data point and the mean, square them, and take the average. The variance of the dataset is (70 - 80)^2 + (75 - 80)^2 + (80 - 80)^2 + (85 - 80)^2 + (90 - 80)^2 / 5 = 100.\n",
    "\n",
    "    Standard deviation: The standard deviation is the square root of the variance, which is 10.\n",
    "\n",
    "Therefore, the measures of dispersion for the given dataset are:\n",
    "\n",
    "    Range: 20\n",
    "    Variance: 100\n",
    "    Standard deviation: 10\n",
    "\n",
    "This indicates that the test scores are not very tightly clustered around the mean of 80, but are spread out over a range of 20 with a standard deviation of 10."
   ]
  },
  {
   "cell_type": "markdown",
   "id": "d94f35b3-9097-4f34-bdcd-ca739bf1eace",
   "metadata": {},
   "source": [
    "# 6. What is a Venn diagram?\n",
    "ANSWER:\n",
    "\n",
    "A Venn diagram is a visual representation of sets or groups, showing their relationships and commonalities. It consists of overlapping circles or other shapes, each representing a set or group, with the common area of the circles representing the intersection of the sets.\n",
    "\n",
    "Venn diagrams were invented by John Venn in the 19th century and are widely used in mathematics, logic, statistics, and other fields. They are used to illustrate the relationships between sets, show the overlap between different groups or categories, and help in logical reasoning and problem-solving."
   ]
  },
  {
   "cell_type": "markdown",
   "id": "14139865-9694-49de-b125-ecea421cf07a",
   "metadata": {},
   "source": [
    "# 7. For the two given sets A = (2,3,4,5,6,7) & B = (0,2,6,8,10). Find: (i) A B, (ii) A ⋃ B\n",
    "ANSWER:\n",
    "\n",
    "    A B (A intersection B) represents the set of elements that are common to both A and B. In this case, the only element that is common to both sets is 6. Therefore, A B = {2,6}.\n",
    "\n",
    "    A ⋃ B (A union B) represents the set of elements that are in either A or B or both. In this case, the elements in A are {2, 3, 4, 5, 6, 7} and the elements in B are {0, 2, 6, 8, 10}. To find the union of the two sets, we simply combine the elements from both sets and remove any duplicates. Therefore, A ⋃ B = {0, 2, 3, 4, 5, 6, 7, 8, 10}."
   ]
  },
  {
   "cell_type": "markdown",
   "id": "39927a11-9549-4d19-b98c-528175ecb72c",
   "metadata": {},
   "source": [
    "# 8. What do you understand about skewness in data?\n",
    "ANSWER:\n",
    "\n",
    "Skewness is a measure of the asymmetry of a probability distribution. In statistics, it refers to the degree to which a distribution is skewed or lopsided, i.e., it measures the extent to which the data is not symmetric around the mean.\n",
    "\n",
    "If a distribution is symmetric, it has zero skewness. A positive skewness value indicates that the distribution has a tail that extends to the right, or positive side, of the distribution, and that the majority of the data is concentrated on the left or negative side. In contrast, a negative skewness value indicates that the distribution has a tail that extends to the left, or negative side, of the distribution, and that the majority of the data is concentrated on the right or positive side.\n",
    "\n",
    "Skewness can affect statistical analysis and interpretation of results. For example, if the data is positively skewed, the mean is likely to be greater than the median, which can lead to an overestimation of the central tendency of the data. Conversely, if the data is negatively skewed, the mean is likely to be less than the median, which can lead to an underestimation of the central tendency."
   ]
  },
  {
   "cell_type": "markdown",
   "id": "dc17a7be-cab4-4f23-9045-b23394c44929",
   "metadata": {},
   "source": [
    "# 9. If a data is right skewed then what will be the position of median with respect to mean?\n",
    "ANSWER:\n",
    "\n",
    "If a data is right skewed, the median will be less than the mean.\n",
    "\n",
    "This is because in a right skewed distribution, there are a few extreme values on the right side that pull the mean in that direction, while the median is more resistant to the influence of extreme values and tends to be closer to the bulk of the data on the left side. Therefore, the median will be located to the left of the mean."
   ]
  },
  {
   "cell_type": "markdown",
   "id": "d3033b5f-fd66-4378-a391-a4721d56cbf3",
   "metadata": {},
   "source": [
    "# 10. Explain the difference between covariance and correlation. How are these measures used in statistical analysis?\n",
    "ANSWER:\n",
    "\n",
    "Covariance and correlation are both measures of the relationship between two variables, but they differ in several ways.\n",
    "\n",
    "Covariance is a measure of how two variables change together. It is a measure of the extent to which two variables are linearly related to each other. Specifically, covariance measures the joint variability of two random variables. It is calculated by taking the product of the deviations of each variable from its respective mean, and then averaging those products.\n",
    "\n",
    "Correlation, on the other hand, is a normalized version of covariance. It measures the strength and direction of the linear relationship between two variables, while taking into account the units of measurement. It is calculated by dividing the covariance by the product of the standard deviations of the two variables. The resulting value ranges from -1 to 1, with 0 indicating no correlation and values closer to -1 or 1 indicating stronger correlation.\n",
    "\n",
    "The main difference between covariance and correlation is that covariance is sensitive to changes in scale, while correlation is not. That is, the magnitude of covariance depends on the units of measurement, while correlation does not. This makes correlation a more useful measure for comparing the strength of the relationship between two variables.\n",
    "\n",
    "Both covariance and correlation are used in statistical analysis to understand the relationship between two variables. Covariance can be used to determine whether two variables tend to move in the same direction or in opposite directions, while correlation can be used to determine the strength and direction of the relationship. These measures are often used in regression analysis, where the goal is to predict one variable based on the other. They are also used in data exploration and visualization, to identify patterns and relationships in the data."
   ]
  },
  {
   "cell_type": "markdown",
   "id": "30486280-e02f-4fc2-bcd5-e6d210d51d1c",
   "metadata": {},
   "source": [
    "# 11. What is the formula for calculating the sample mean? Provide an example calculation for a dataset.\n",
    "ANSWER:\n",
    "\n",
    "The formula for calculating the sample mean is:\n",
    "\n",
    "Sample Mean = (Sum of all values in the sample) / (Number of values in the sample)\n",
    "\n",
    "For example, let's say we have the following dataset of exam scores for a sample of 5 students:\n",
    "\n",
    "{70, 80, 75, 85, 90}\n",
    "\n",
    "To calculate the sample mean, we add up all the scores in the sample and divide by the number of students:\n",
    "\n",
    "Sample Mean = (70 + 80 + 75 + 85 + 90) / 5\n",
    "= 80\n",
    "\n",
    "Therefore, the sample mean for this dataset is 80."
   ]
  },
  {
   "cell_type": "markdown",
   "id": "e2b4cf3e-8a93-4593-aef4-e3259034c56a",
   "metadata": {},
   "source": [
    "# 12. For a normal distribution data what is the relationship between its measure of central tendency?\n",
    "ANSWER:\n",
    "\n",
    "For a normal distribution, the measures of central tendency (i.e., mean, median, and mode) are equal to each other. This means that the center of the distribution is located at the same point regardless of which measure of central tendency is used.\n",
    "\n",
    "This is because a normal distribution is a symmetric distribution where the data is evenly distributed around the center, and the mean, median, and mode are all located at the center of the distribution. Therefore, for a normal distribution, the mean, median, and mode are all equal, and they all provide an accurate measure of the center of the distribution."
   ]
  },
  {
   "cell_type": "markdown",
   "id": "266d409c-edc6-480d-8c45-a1674d479cb5",
   "metadata": {},
   "source": [
    "# 13. How is covariance different from correlation?\n",
    "ANSWER:\n",
    "\n",
    "Covariance and correlation are both measures of the relationship between two variables in a dataset, but they differ in terms of their scale and interpretation:\n",
    "\n",
    "    Scale: Covariance measures the scale of the relationship between two variables, while correlation measures the strength of the relationship. Covariance can take on any value, positive or negative, while correlation is always between -1 and 1.\n",
    "\n",
    "    Interpretation: Covariance can be difficult to interpret because its value depends on the scale of the variables being measured. A positive covariance means that the two variables tend to increase or decrease together, while a negative covariance means that one variable tends to increase as the other decreases. However, it is difficult to say how strong or weak the relationship is based solely on the covariance value. On the other hand, correlation is easier to interpret because it is standardized and always falls between -1 and 1. A correlation of 0 means no relationship, while a correlation of 1 or -1 means a perfect positive or negative relationship, respectively."
   ]
  },
  {
   "cell_type": "markdown",
   "id": "06716605-3f98-440d-a748-7bb780af1f67",
   "metadata": {},
   "source": [
    "# 14. How do outliers affect measures of central tendency and dispersion? Provide an example.\n",
    "ANSWER:\n",
    "\n",
    "Outliers can significantly affect measures of central tendency and dispersion in a dataset.\n",
    "\n",
    "    Measures of central tendency: Outliers can skew the mean towards their extreme values, causing it to become an inaccurate measure of the central tendency of the dataset. The median is less sensitive to outliers and is a better measure of central tendency when the data is skewed. The mode is also less affected by outliers, but it may not be a good measure of central tendency for datasets with multiple modes.\n",
    "\n",
    "    Measures of dispersion: Outliers can also affect measures of dispersion such as range, variance, and standard deviation. The range, which is the difference between the maximum and minimum values, can be inflated by the presence of outliers. The variance and standard deviation are also affected by outliers because they are based on the difference between each data point and the mean. Outliers that are far from the mean can increase the variance and standard deviation, making them less representative of the spread of the data.\n",
    "\n",
    "Example: Let's say we have a dataset of salaries of employees in a company:\n",
    "\n",
    "[30000, 35000, 40000, 45000, 50000, 55000, 60000, 65000, 70000, 75000, 80000, 85000, 90000, 95000, 100000]\n",
    "\n",
    "If we add an outlier value of 150000, the mean salary would increase significantly, making it a less accurate measure of central tendency. The median would not be affected much, and would still be a good measure of central tendency. The range, variance, and standard deviation would also be affected by the outlier, becoming larger and less representative of the actual spread of salaries in the company."
   ]
  }
 ],
 "metadata": {
  "kernelspec": {
   "display_name": "Python 3 (ipykernel)",
   "language": "python",
   "name": "python3"
  },
  "language_info": {
   "codemirror_mode": {
    "name": "ipython",
    "version": 3
   },
   "file_extension": ".py",
   "mimetype": "text/x-python",
   "name": "python",
   "nbconvert_exporter": "python",
   "pygments_lexer": "ipython3",
   "version": "3.10.8"
  }
 },
 "nbformat": 4,
 "nbformat_minor": 5
}
